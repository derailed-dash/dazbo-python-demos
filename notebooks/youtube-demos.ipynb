{
 "cells": [
  {
   "cell_type": "markdown",
   "metadata": {},
   "source": [
    "# Dazbo's YouTube Demos\n",
    "\n",
    "## Overview\n",
    "\n",
    "Examples of how to work with YouTube using Python.\n",
    "\n",
    "A few useful notes:\n",
    "\n",
    "- The source for this notebook source lives in my GitHub repo, <a href=\"https://github.com/derailed-dash/dazbo-python-demos\" target=\"_blank\">Dazbo-Python-Demos</a>.\n",
    "- Check out further guidance - including tips on how to run the notebook, in the project's `README.md`.\n",
    "- For example, you could...\n",
    "  - Run the notebook locally, in your own Jupyter environment.\n",
    "  - Run the notebook in a cloud-based Jupyter environment, with no setup required on your part!  For example, <a href=\"https://colab.research.google.com/github/derailed-dash/dazbo-python-demos/blob/main/notebooks/youtube-demos.ipynb\" target=\"_blank\"><img src=\"https://colab.research.google.com/assets/colab-badge.svg\" alt=\"Google Colab\"/></a>\n",
    "- **To run the notebook, first execute the cells in the [Setup](#Setup) section, as described below.** Then you can experiment with any of the subsequent cells."
   ]
  },
  {
   "cell_type": "markdown",
   "metadata": {},
   "source": [
    "## Setup"
   ]
  },
  {
   "cell_type": "markdown",
   "metadata": {},
   "source": [
    "First, let's install any dependent packages:"
   ]
  },
  {
   "cell_type": "code",
   "execution_count": null,
   "metadata": {},
   "outputs": [],
   "source": [
    "%pip install --upgrade --no-cache-dir dazbo-commons pytubefix yt_dlp"
   ]
  },
  {
   "cell_type": "code",
   "execution_count": 23,
   "metadata": {},
   "outputs": [],
   "source": [
    "import logging\n",
    "import re\n",
    "from pathlib import Path\n",
    "from dataclasses import dataclass\n",
    "import dazbo_commons as dc"
   ]
  },
  {
   "cell_type": "markdown",
   "metadata": {},
   "source": [
    "Now we'll setup logging. Here I'm using coloured logging from my [dazbo-commons](https://pypi.org/project/dazbo-commons/) package. Feel free to change the logging level."
   ]
  },
  {
   "cell_type": "code",
   "execution_count": null,
   "metadata": {},
   "outputs": [],
   "source": [
    "# Setup logging\n",
    "APP_NAME=\"dazbo-yt-demos\"\n",
    "logger = dc.retrieve_console_logger(APP_NAME)\n",
    "logger.setLevel(logging.DEBUG)\n",
    "logger.info(\"Logger initialised.\")\n",
    "logger.debug(\"DEBUG level logging enabled.\")"
   ]
  },
  {
   "cell_type": "markdown",
   "metadata": {},
   "source": [
    "Here we initialise some file path locations, e.g. an output folder."
   ]
  },
  {
   "cell_type": "code",
   "execution_count": null,
   "metadata": {},
   "outputs": [],
   "source": [
    "locations = dc.get_locations(APP_NAME)\n",
    "for attribute, value in vars(locations).items():\n",
    "    logger.debug(f\"{attribute}: {value}\")"
   ]
  },
  {
   "cell_type": "markdown",
   "metadata": {},
   "source": [
    "Now some utility functions."
   ]
  },
  {
   "cell_type": "code",
   "execution_count": 26,
   "metadata": {},
   "outputs": [],
   "source": [
    "def clean_filename(filename):\n",
    "    \"\"\" Create a clean filename by removing unallowed characters. \"\"\"\n",
    "    pattern = r'[^a-zA-Z0-9._\\s-]'\n",
    "    return  re.sub(pattern, '_', filename)"
   ]
  },
  {
   "cell_type": "markdown",
   "metadata": {},
   "source": [
    "## Downloading Videos and Extracting Audio"
   ]
  },
  {
   "cell_type": "code",
   "execution_count": 36,
   "metadata": {},
   "outputs": [],
   "source": [
    "# YouTube videos to download\n",
    "urls = [\n",
    "    \"https://www.youtube.com/watch?v=udRAIF6MOm8\",  # Sigrid - Burning Bridges\n",
    "    \"bla\", # Test a bad URL\n",
    "    \"https://www.youtube.com/watch?v=CiTn4j7gVvY\",  # Melissa Hollick - I Believe\n",
    "    \"https://www.youtube.com/watch?v=d4N82wPpdg8\",  # Jerry Heil & Alyona Alyona - Teresa & Maria\n",
    "]"
   ]
  },
  {
   "cell_type": "markdown",
   "metadata": {},
   "source": [
    "### With PyTubeFix\n",
    "\n",
    "Here I'll use the [pytubefix](https://github.com/JuanBindez/pytubefix) library to download YouTube videos, and then to download mp3 audio-only streams as files.\n",
    "\n",
    "This library is a community-maintained fork of `pytube`. It was created to provide quick fixes for issues that the official pytube library faced, particularly when YouTube's updates break `pytube`.\n",
    "\n",
    "Pros:\n",
    "\n",
    "- The library is very easy to use.\n",
    "- We can work with video, audio, channels, playlists, and even search and filter.\n",
    "- It is [well documented](https://pytubefix.readthedocs.io/en/latest/).\n",
    "- It can be used from the command line, with its simple CLI.\n",
    "- It is VERY FAST!\n",
    "\n",
    "Cons:\n",
    "\n",
    "- Does not offer some of the more sophisticated capabilities that are offered by `yt_dlp`."
   ]
  },
  {
   "cell_type": "code",
   "execution_count": null,
   "metadata": {},
   "outputs": [],
   "source": [
    "\n",
    "from pytubefix import YouTube\n",
    "from pytubefix.cli import on_progress\n",
    "\n",
    "videos = []\n",
    "audios = []\n",
    "\n",
    "for i, url in enumerate(urls):\n",
    "    logger.info(f\"Downloads progress: {i+1}/{len(urls)}\")\n",
    "\n",
    "    try:\n",
    "        yt = YouTube(url, on_progress_callback=on_progress)\n",
    "        logger.info(f\"Getting: {yt.title}\")\n",
    "        video_stream = yt.streams.get_highest_resolution()\n",
    "        if not video_stream:\n",
    "            raise Exception(\"Stream not available.\")\n",
    "        \n",
    "        # YouTube resource titles may contain special characters which \n",
    "        # can't be used when saving the file. So we need to clean the filename.\n",
    "        cleaned = clean_filename(yt.title)\n",
    "        output_locn = f\"{locations.output_dir}/pytubefix\"\n",
    "        \n",
    "        video_output = f\"{output_locn}/{cleaned}.mp4\"\n",
    "        logger.info(f\"Downloading video {cleaned}.mp4 ...\")\n",
    "        video_stream.download(output_path=output_locn, filename=f\"{cleaned}.mp4\")\n",
    "        videos.append(f\"{output_locn}/{cleaned}.mp4\")\n",
    "    \n",
    "        logger.info(f\"Creating audio...\")\n",
    "        audio_stream = yt.streams.get_audio_only()\n",
    "        audio_stream.download(output_path=output_locn, filename=cleaned, mp3=True)\n",
    "        audios.append(f\"{output_locn}/{cleaned}.mp3\")\n",
    "        \n",
    "        logger.info(\"Done\")\n",
    "        \n",
    "    except Exception as e:        \n",
    "        logger.error(f\"Error processing URL '{url}'.\")\n",
    "        logger.error(f\"The cause was: {e}\") \n",
    "        \n",
    "logger.info(f\"Downloads finished.\")\n",
    "for video in videos:\n",
    "    logger.info(video)\n",
    "for audio in audios:\n",
    "    logger.info(audio)\n"
   ]
  },
  {
   "cell_type": "markdown",
   "metadata": {},
   "source": [
    "### With YT_DLP\n",
    "\n",
    "I wanted to try the other popular YouTube package: [yt-dlp](https://pypi.org/project/yt-dlp/). The [repo](https://github.com/yt-dlp/yt-dlp) repo is a fork of the now unmaintained `youtube-dl`. \n",
    "\n",
    "Pros:\n",
    "\n",
    "- It is very powerful, with far more options and features than `pytubefix`.\n",
    "- It can be installed as a standalone command-line executable, or as a pip-installable Python package.\n",
    "\n",
    "Cons:\n",
    "\n",
    "- It is more complicated to use.\n",
    "- The documentation is complex. And there's no real Python-specific documentation.\n",
    "- It depends on having ffmpeg installed for many use cases.\n",
    "- It is significantly slower that `pytubefix` for performing video download and audio extraction.\n"
   ]
  },
  {
   "cell_type": "code",
   "execution_count": null,
   "metadata": {},
   "outputs": [],
   "source": [
    "import yt_dlp\n",
    "\n",
    "for i, url in enumerate(urls):\n",
    "    logger.info(f\"Downloads progress: {i+1}/{len(urls)}\")\n",
    "\n",
    "    try:\n",
    "        # Options for downloading the video\n",
    "        output_locn = f\"{locations.output_dir}/yt_dlp\"\n",
    "        \n",
    "        video_opts = {\n",
    "            'format': 'best',  # Download the best quality video\n",
    "            'outtmpl': f'{output_locn}/%(title)s.%(ext)s',  # Save video in output directory\n",
    "        }\n",
    "        \n",
    "        # Download the video\n",
    "        with yt_dlp.YoutubeDL(video_opts) as ydl:\n",
    "            print(\"Downloading video...\")\n",
    "            ydl.download([url])\n",
    "        \n",
    "        # Options for extracting audio and saving as MP3\n",
    "        audio_opts = {\n",
    "            'format': 'bestaudio',  # Download the best quality audio\n",
    "            'outtmpl': f'{output_locn}/%(title)s.%(ext)s',  # Save audio in output directory\n",
    "            'postprocessors': [{\n",
    "                'key': 'FFmpegExtractAudio',\n",
    "                'preferredcodec': 'mp3',\n",
    "            }],\n",
    "        }\n",
    "        \n",
    "        # Download and extract audio\n",
    "        with yt_dlp.YoutubeDL(audio_opts) as ydl:\n",
    "            print(\"Extracting and saving audio as MP3...\")\n",
    "            ydl.download([url])\n",
    "        \n",
    "    except Exception as e:        \n",
    "        logger.error(f\"Error processing URL '{url}'.\")\n",
    "        logger.error(f\"The cause was: {e}\") \n",
    "        \n",
    "logger.info(f\"Downloads finished. Check out files at {output_locn}.\")"
   ]
  }
 ],
 "metadata": {
  "kernelspec": {
   "display_name": "Python 3 (ipykernel)",
   "language": "python",
   "name": "python3"
  },
  "language_info": {
   "codemirror_mode": {
    "name": "ipython",
    "version": 3
   },
   "file_extension": ".py",
   "mimetype": "text/x-python",
   "name": "python",
   "nbconvert_exporter": "python",
   "pygments_lexer": "ipython3",
   "version": "3.11.6"
  }
 },
 "nbformat": 4,
 "nbformat_minor": 2
}

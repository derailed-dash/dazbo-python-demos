{
 "cells": [
  {
   "cell_type": "markdown",
   "metadata": {},
   "source": [
    "# Dazbo's YouTube Demos\n",
    "\n",
    "## Overview\n",
    "\n",
    "Examples of how to work with YouTube using Python.\n",
    "\n",
    "A few useful notes:\n",
    "\n",
    "- The source for this notebook source lives in my GitHub repo, <a href=\"https://github.com/derailed-dash/dazbo-python-demos\" target=\"_blank\">Dazbo-Python-Demos</a>.\n",
    "- Check out further guidance - including tips on how to run the notebook, in the project's `README.md`.\n",
    "- For example, you could...\n",
    "  - Run the notebook locally, in your own Jupyter environment.\n",
    "  - Run the notebook in a cloud-based Jupyter environment, with no setup required on your part!  For example, <a href=\"https://colab.research.google.com/github/derailed-dash/dazbo-python-demos/blob/main/notebooks/youtube-demos.ipynb\" target=\"_blank\"><img src=\"https://colab.research.google.com/assets/colab-badge.svg\" alt=\"Google Colab\"/></a>\n",
    "- **To run the notebook, first execute the cells in the [Setup](#Setup) section, as described below.** Then you can experiment with any of the subsequent cells."
   ]
  },
  {
   "cell_type": "markdown",
   "metadata": {},
   "source": [
    "## Setup"
   ]
  },
  {
   "cell_type": "code",
   "execution_count": null,
   "metadata": {},
   "outputs": [],
   "source": [
    "%pip install --upgrade --no-cache-dir dazbo-commons pytubefix yt_dlp moviepy"
   ]
  },
  {
   "cell_type": "markdown",
   "metadata": {},
   "source": [
    "First, we can install any dependent packages.\n",
    "\n",
    "Notes:\n",
    "- [dazbo-commons](https://pypi.org/project/dazbo-commons/): my own utils library, which includes coloured logging, and a Locations class for handling input and output paths.\n",
    "- [pytubefix](https://github.com/JuanBindez/pytubefix): for downloading of YouTube videos, audio extraction, and more. This is a community-maintained fork of `pytube`. It was created to provide quick fixes for issues that the official pytube library faced, particularly when YouTube's updates break pytube."
   ]
  },
  {
   "cell_type": "code",
   "execution_count": 2,
   "metadata": {},
   "outputs": [],
   "source": [
    "import logging\n",
    "import re\n",
    "from pathlib import Path\n",
    "from dataclasses import dataclass\n",
    "import dazbo_commons as dc"
   ]
  },
  {
   "cell_type": "markdown",
   "metadata": {},
   "source": [
    "Now we'll setup logging. Here I'm using my coloured logger module. Feel free to change the logging level."
   ]
  },
  {
   "cell_type": "code",
   "execution_count": null,
   "metadata": {},
   "outputs": [],
   "source": [
    "# Setup logging\n",
    "APP_NAME=\"dazbo_yt-demos\"\n",
    "logger = dc.retrieve_console_logger(APP_NAME)\n",
    "logger.setLevel(logging.DEBUG)\n",
    "logger.info(\"Logger initialised.\")\n",
    "logger.debug(\"DEBUG level logging enabled.\")"
   ]
  },
  {
   "cell_type": "markdown",
   "metadata": {},
   "source": [
    "Here we initialise some file path locations, e.g. an output folder."
   ]
  },
  {
   "cell_type": "code",
   "execution_count": null,
   "metadata": {},
   "outputs": [],
   "source": [
    "locations = dc.get_locations(APP_NAME)\n",
    "for attribute, value in vars(locations).items():\n",
    "    logger.debug(f\"{attribute}: {value}\")"
   ]
  },
  {
   "cell_type": "markdown",
   "metadata": {},
   "source": [
    "Now some utility functions."
   ]
  },
  {
   "cell_type": "code",
   "execution_count": 5,
   "metadata": {},
   "outputs": [],
   "source": [
    "def clean_filename(filename):\n",
    "    \"\"\" Create a clean filename by removing unallowed characters. \"\"\"\n",
    "    pattern = r'[^a-zA-Z0-9._\\s-]'\n",
    "    return  re.sub(pattern, '_', filename)"
   ]
  },
  {
   "cell_type": "markdown",
   "metadata": {},
   "source": [
    "## Downloading Videos and Extracting Audio"
   ]
  },
  {
   "cell_type": "code",
   "execution_count": 14,
   "metadata": {},
   "outputs": [],
   "source": [
    "# YouTube videos to download\n",
    "urls = [\n",
    "    \"https://www.youtube.com/watch?v=ZL29msEpqOQ\",  # Sigrid\n",
    "    \"bla\", # Test a bad URL\n",
    "    \"https://www.youtube.com/watch?v=CiTn4j7gVvY\",  # Melissa - I Believe\n",
    "    # \"https://www.youtube.com/watch?v=kcgooI7aq3c\",  # Jerry and Julia\n",
    "]"
   ]
  },
  {
   "cell_type": "markdown",
   "metadata": {},
   "source": [
    "### With PyTubeFix and MoviePy"
   ]
  },
  {
   "cell_type": "code",
   "execution_count": 15,
   "metadata": {},
   "outputs": [
    {
     "name": "stderr",
     "output_type": "stream",
     "text": [
      "\u001b[32m16:18:52.410:dazbo_yt-demos - INF: Downloads progress: 1/3\u001b[39m\n",
      "\u001b[32m16:18:52.611:dazbo_yt-demos - INF: Getting: Sigrid - Burning Bridges (up close, acoustic)\u001b[39m\n",
      "\u001b[32m16:18:52.612:dazbo_yt-demos - INF: Downloading video Sigrid - Burning Bridges _up close_ acoustic_.mp4 ...\u001b[39m\n",
      "\u001b[34m16:18:52.685:dazbo_yt-demos - DBG: Downloaded\u001b[39m\n",
      "\u001b[32m16:18:52.686:dazbo_yt-demos - INF: Creating audio from Sigrid - Burning Bridges _up close_ acoustic_.mp4 ...\u001b[39m\n"
     ]
    },
    {
     "name": "stdout",
     "output_type": "stream",
     "text": [
      "MoviePy - Writing audio in /home/jovyan/dazbo_yt-demos/output/Sigrid - Burning Bridges _up close_ acoustic_.mp3\n"
     ]
    },
    {
     "name": "stderr",
     "output_type": "stream",
     "text": [
      "\u001b[32m16:18:55.175:dazbo_yt-demos - INF: Done\u001b[39m                     \n",
      "\u001b[32m16:18:55.175:dazbo_yt-demos - INF: Downloads progress: 2/3\u001b[39m\n",
      "\u001b[31m16:18:55.176:dazbo_yt-demos - ERR: Error processing URL 'bla'.\u001b[39m\n",
      "\u001b[31m16:18:55.176:dazbo_yt-demos - ERR: The cause was: regex_search: could not find match for (?:v=|\\/)([0-9A-Za-z_-]{11}).*\u001b[39m\n",
      "\u001b[32m16:18:55.176:dazbo_yt-demos - INF: Downloads progress: 3/3\u001b[39m\n",
      "\u001b[32m16:18:55.320:dazbo_yt-demos - INF: Getting: Wolfenstein: The New Order - I Believe - Melissa Hollick (Official Ending Song)\u001b[39m\n",
      "\u001b[32m16:18:55.321:dazbo_yt-demos - INF: Downloading video Wolfenstein_ The New Order - I Believe - Melissa Hollick _Official Ending Song_.mp4 ...\u001b[39m\n",
      "\u001b[34m16:18:55.326:dazbo_yt-demos - DBG: Downloaded\u001b[39m\n",
      "\u001b[32m16:18:55.327:dazbo_yt-demos - INF: Creating audio from Wolfenstein_ The New Order - I Believe - Melissa Hollick _Official Ending Song_.mp4 ...\u001b[39m\n"
     ]
    },
    {
     "name": "stdout",
     "output_type": "stream",
     "text": [
      "MoviePy - Done.\n",
      "MoviePy - Writing audio in /home/jovyan/dazbo_yt-demos/output/Wolfenstein_ The New Order - I Believe - Melissa Hollick _Official Ending Song_.mp3\n"
     ]
    },
    {
     "name": "stderr",
     "output_type": "stream",
     "text": [
      "\u001b[32m16:19:00.150:dazbo_yt-demos - INF: Done\u001b[39m                     \n",
      "\u001b[32m16:19:00.151:dazbo_yt-demos - INF: Downloads finished. Check out files at /home/jovyan/dazbo_yt-demos/output.\u001b[39m\n"
     ]
    },
    {
     "name": "stdout",
     "output_type": "stream",
     "text": [
      "MoviePy - Done.\n"
     ]
    }
   ],
   "source": [
    "from pytubefix import YouTube\n",
    "from pytubefix.cli import on_progress\n",
    "from moviepy.editor import VideoFileClip\n",
    "\n",
    "for i, url in enumerate(urls):\n",
    "    logger.info(f\"Downloads progress: {i+1}/{len(urls)}\")\n",
    "\n",
    "    try:\n",
    "        yt = YouTube(url, on_progress_callback=on_progress)\n",
    "        logger.info(f\"Getting: {yt.title}\")\n",
    "        stream = yt.streams.get_highest_resolution()\n",
    "        if not stream:\n",
    "            raise Exception(\"Stream not available.\")\n",
    "           \n",
    "        cleaned = clean_filename(yt.title)\n",
    "        video_output = f\"{locations.output_dir}/{cleaned}.mp4\"\n",
    "        logger.info(f\"Downloading video {cleaned}.mp4 ...\")\n",
    "        stream.download(output_path=locations.output_dir, filename=f\"{cleaned}.mp4\")\n",
    "        logger.debug(\"Downloaded\")\n",
    "    \n",
    "        logger.info(f\"Creating audio from {cleaned}.mp4 ...\")\n",
    "        video = VideoFileClip(video_output) # purely to give us access to methods\n",
    "        video.audio.write_audiofile(f\"{locations.output_dir}/{cleaned}.mp3\")\n",
    "        video.close()\n",
    "        logger.info(\"Done\")\n",
    "    except Exception as e:        \n",
    "        logger.error(f\"Error processing URL '{url}'.\")\n",
    "        logger.error(f\"The cause was: {e}\") \n",
    "        \n",
    "logger.info(f\"Downloads finished. Check out files at {locations.output_dir}.\")"
   ]
  },
  {
   "cell_type": "markdown",
   "metadata": {},
   "source": [
    "### With PyTubeFix Alone"
   ]
  },
  {
   "cell_type": "code",
   "execution_count": null,
   "metadata": {},
   "outputs": [],
   "source": [
    "\n",
    "from pytubefix import YouTube\n",
    "from pytubefix.cli import on_progress\n",
    "\n",
    "for i, url in enumerate(urls):\n",
    "    logger.info(f\"Downloads progress: {i+1}/{len(urls)}\")\n",
    "\n",
    "    try:\n",
    "        yt = YouTube(url, on_progress_callback=on_progress)\n",
    "        logger.info(f\"Getting: {yt.title}\")\n",
    "        stream = yt.streams.get_highest_resolution()\n",
    "        if not stream:\n",
    "            raise Exception(\"Stream not available.\")\n",
    "           \n",
    "        cleaned = clean_filename(yt.title)\n",
    "        video_output = f\"{locations.output_dir}/{cleaned}.mp4\"\n",
    "        logger.info(f\"Downloading video {cleaned}.mp4 ...\")\n",
    "        stream.download(output_path=locations.output_dir, filename=f\"{cleaned}.mp4\")\n",
    "        logger.debug(\"Downloaded\")\n",
    "    \n",
    "        logger.info(f\"Creating audio from {cleaned}.mp4 ...\")\n",
    "        video = VideoFileClip(video_output) # purely to give us access to methods\n",
    "        video.audio.write_audiofile(f\"{locations.output_dir}/{cleaned}.mp3\")\n",
    "        video.close()\n",
    "        logger.info(\"Done\")\n",
    "    except Exception as e:        \n",
    "        logger.error(f\"Error processing URL '{url}'.\")\n",
    "        logger.error(f\"The cause was: {e}\") \n",
    "        \n",
    "logger.info(f\"Downloads finished. Check out files at {locations.output_dir}.\")"
   ]
  }
 ],
 "metadata": {
  "kernelspec": {
   "display_name": "Python 3 (ipykernel)",
   "language": "python",
   "name": "python3"
  },
  "language_info": {
   "codemirror_mode": {
    "name": "ipython",
    "version": 3
   },
   "file_extension": ".py",
   "mimetype": "text/x-python",
   "name": "python",
   "nbconvert_exporter": "python",
   "pygments_lexer": "ipython3",
   "version": "3.11.6"
  }
 },
 "nbformat": 4,
 "nbformat_minor": 2
}

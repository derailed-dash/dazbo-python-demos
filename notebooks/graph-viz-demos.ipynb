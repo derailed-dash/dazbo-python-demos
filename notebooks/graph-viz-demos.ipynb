{
 "cells": [
  {
   "cell_type": "markdown",
   "metadata": {},
   "source": [
    "# Dazbo's Graph Visualisation Demos\n",
    "\n",
    "## Overview\n",
    "\n",
    "Just a few simple Python demos for how to visualise graphs.\n",
    "\n",
    "A few useful notes:\n",
    "\n",
    "- The source for this notebook source lives in my GitHub repo, <a href=\"https://github.com/derailed-dash/dazbo-python-demos\" target=\"_blank\">Dazbo-Python-Demos</a>.\n",
    "- Check out further guidance - including tips on how to run the notebook, in the project's `README.md`.\n",
    "- For example, you could...\n",
    "  - Run the notebook locally, in your own Jupyter environment.\n",
    "  - Run the notebook in a cloud-based Jupyter environment, with no setup required on your part!  For example, <a href=\"https://colab.research.google.com/github/derailed-dash/dazbo-python-demos/blob/main/notebooks/graph-viz-demos.ipynb\" target=\"_blank\"><img src=\"https://colab.research.google.com/assets/colab-badge.svg\" alt=\"Google Colab\"/></a>\n",
    "- **To run the notebook, first execute the cells in the [Setup](#Setup) section, as described below.** Then you can experiment with any of the subsequent cells."
   ]
  },
  {
   "cell_type": "markdown",
   "metadata": {},
   "source": [
    "## Setup"
   ]
  },
  {
   "cell_type": "code",
   "execution_count": null,
   "metadata": {},
   "outputs": [],
   "source": [
    "%conda install -y -c conda-forge matplotlib pandas networkx sympy scipy\n",
    "%conda install -y -c conda-forge colorama python-dotenv tqdm\n",
    "%conda install -y -c conda-forge bokeh plotly\n",
    "%conda install -y -c conda-forge graphviz\n",
    "%conda install -y -c conda-forge python-graphviz\n",
    "%pip install --upgrade --no-cache-dir dazbo-commons"
   ]
  },
  {
   "cell_type": "markdown",
   "metadata": {},
   "source": [
    "### Optional Restart"
   ]
  },
  {
   "cell_type": "code",
   "execution_count": 11,
   "metadata": {},
   "outputs": [],
   "source": [
    "from dataclasses import asdict, dataclass, field\n",
    "import heapq\n",
    "import logging\n",
    "import os\n",
    "import platform\n",
    "\n",
    "from dotenv import load_dotenv\n",
    "import graphviz\n",
    "import dazbo_commons as dc # my own utility library, which includes things like coloured logging\n",
    "import networkx as nx\n",
    "import numpy as np\n",
    "import pandas as pd\n",
    "\n",
    "import matplotlib.pyplot as plt\n",
    "import matplotlib.colors as mcolors\n",
    "from matplotlib.markers import MarkerStyle"
   ]
  },
  {
   "cell_type": "code",
   "execution_count": null,
   "metadata": {},
   "outputs": [],
   "source": [
    "# Setup logger\n",
    "APP_NAME = \"dazbo_gvd\"\n",
    "logger = dc.retrieve_console_logger(APP_NAME)\n",
    "logger.setLevel(logging.DEBUG)\n",
    "logger.info(\"Logger initialised.\")\n",
    "logger.debug(\"Debugging enabled\")"
   ]
  },
  {
   "cell_type": "markdown",
   "metadata": {},
   "source": [
    "## Graph Vis Demos\n",
    "\n",
    "Content coming soon..."
   ]
  },
  {
   "cell_type": "markdown",
   "metadata": {},
   "source": []
  }
 ],
 "metadata": {
  "kernelspec": {
   "display_name": "jupyter-conda-env",
   "language": "python",
   "name": "python3"
  },
  "language_info": {
   "codemirror_mode": {
    "name": "ipython",
    "version": 3
   },
   "file_extension": ".py",
   "mimetype": "text/x-python",
   "name": "python",
   "nbconvert_exporter": "python",
   "pygments_lexer": "ipython3",
   "version": "3.13.1"
  }
 },
 "nbformat": 4,
 "nbformat_minor": 2
}
